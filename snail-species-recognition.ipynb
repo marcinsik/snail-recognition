{
 "cells": [
  {
   "cell_type": "raw",
   "id": "71dc44a4",
   "metadata": {},
   "source": [
    "Przygotowanie danych."
   ]
  },
  {
   "cell_type": "code",
   "execution_count": 1,
   "id": "7768e426",
   "metadata": {},
   "outputs": [],
   "source": [
    "import os\n",
    "import numpy as np\n",
    "from PIL import Image\n",
    "import tensorflow as tf\n",
    "from tensorflow.keras.preprocessing.image import ImageDataGenerator\n",
    "#ścieżki do katalogów\n",
    "\n",
    "species1_dir = 'your_directory'\n",
    "species2_dir = 'your_directory'\n",
    "species3_dir = 'your_directory'\n",
    "negative_dir = 'your_directory'\n",
    "\n",
    "#określenie wspólnego rozmiaru obrazu\n",
    "img_size = (300, 300)\n",
    "\n",
    "#lista do przechowywania danych obrazu i etykiet\n",
    "data = []\n",
    "labels = []\n",
    "\n",
    "\n",
    "    \n",
    "#gatunki\n",
    "for img_file in os.listdir(species1_dir):\n",
    "    img_path = os.path.join(species1_dir, img_file)\n",
    "    img = Image.open(img_path).resize(img_size)\n",
    "    img_data = np.array(img)\n",
    "    data.append(img_data)\n",
    "    labels.append(0)\n",
    "\n",
    "\n",
    "for img_file in os.listdir(species2_dir):\n",
    "    img_path = os.path.join(species2_dir, img_file)\n",
    "    img = Image.open(img_path).resize(img_size)\n",
    "    img_data = np.array(img)\n",
    "    data.append(img_data)\n",
    "    labels.append(1)\n",
    "\n",
    "\n",
    "for img_file in os.listdir(species3_dir):\n",
    "    img_path = os.path.join(species3_dir, img_file)\n",
    "    img = Image.open(img_path).resize(img_size)\n",
    "    img_data = np.array(img)\n",
    "    data.append(img_data)\n",
    "    labels.append(2)\n",
    "    \n",
    "#obrazy\n",
    "for img_file in os.listdir(negative_dir):\n",
    "    img_path = os.path.join(negative_dir, img_file)\n",
    "    img = Image.open(img_path).resize(img_size)\n",
    "    img_data = np.array(img)\n",
    "    data.append(img_data)\n",
    "    labels.append(3)\n",
    "\n",
    "#konwwertowanie danych na etykiety i tablice numpy\n",
    "data = np.array(data)\n",
    "labels = np.array(labels)\n",
    "\n",
    "#dzielenie zbioru danych na zbiór treningowy i testowy\n",
    "from sklearn.model_selection import train_test_split\n",
    "train_data, test_data, train_labels, test_labels = train_test_split(data, labels, test_size=0.2, random_state=42)\n",
    "\n",
    "#normalizacja wartości pikseli\n",
    "train_data = train_data / 255.0\n",
    "test_data = test_data / 255.0\n",
    "\n",
    "\n",
    "class_labels = ['Blotniarka', 'Helenka', 'Winniczek', 'Negative']\n",
    "\n",
    "#binarna reprezentacja wektorowa\n",
    "train_labels = tf.keras.utils.to_categorical(train_labels, num_classes=len(class_labels))\n",
    "test_labels = tf.keras.utils.to_categorical(test_labels, num_classes=len(class_labels))\n",
    "\n",
    "#Generator danych obrazu\n",
    "datagen = ImageDataGenerator(rotation_range=20, \n",
    "                             width_shift_range=0.2, \n",
    "                             height_shift_range=0.2, \n",
    "                             shear_range=0.2, \n",
    "                             zoom_range=0.2, \n",
    "                             horizontal_flip=True, \n",
    "                             fill_mode='nearest')\n",
    "\n",
    "#dopasowanie generatora danych do danych treningowych\n",
    "datagen.fit(train_data)"
   ]
  },
  {
   "cell_type": "raw",
   "id": "79a8bede",
   "metadata": {},
   "source": [
    "Trenowanie modelu."
   ]
  },
  {
   "cell_type": "code",
   "execution_count": null,
   "id": "282d02ab",
   "metadata": {
    "collapsed": true
   },
   "outputs": [],
   "source": [
    "import tensorflow as tf\n",
    "import time\n",
    "from tensorflow.keras import layers, models\n",
    "from tensorflow.keras.preprocessing.image import ImageDataGenerator\n",
    "from tensorflow.keras.callbacks import EarlyStopping\n",
    "from tensorflow.keras.regularizers import l2,l1\n",
    "from tensorflow.keras.callbacks import TensorBoard\n",
    "#CNN\n",
    "model = models.Sequential([\n",
    "    layers.Conv2D(32, (3, 3), activation='relu', input_shape=(300, 300, 3)),\n",
    "    layers.BatchNormalization(),\n",
    "    layers.MaxPooling2D((2, 2)),\n",
    "    layers.Conv2D(64, (3, 3), activation='relu'),\n",
    "    layers.MaxPooling2D((2, 2)),\n",
    "    layers.Conv2D(128, (3, 3), activation='relu'),\n",
    "    layers.MaxPooling2D((2, 2)),\n",
    "    layers.Conv2D(128, (3, 3), activation='relu'),\n",
    "    layers.MaxPooling2D((2, 2)),\n",
    "    layers.Flatten(),\n",
    "    layers.Dense(256, activation='relu', kernel_regularizer=l2(0.001)),\n",
    "    layers.Dropout(0.5),\n",
    "    layers.Dense(len(class_labels), activation='softmax')\n",
    "])\n",
    "\n",
    "\n",
    "\n",
    "model.compile(optimizer='adam', loss='categorical_crossentropy', metrics=['accuracy'])\n",
    "\n",
    "early_stop = EarlyStopping(patience=12)\n",
    "#trening modelu\n",
    "\n",
    "\n",
    "history = model.fit(train_data, train_labels, batch_size=8, epochs=20, callbacks=[early_stop], validation_data=(test_data, test_labels))\n",
    "\n",
    "\n",
    "\n",
    "#ocena modelu\n",
    "test_loss, test_acc = model.evaluate(test_data, test_labels)\n",
    "\n",
    "print('Test accuracy:', test_acc)\n"
   ]
  },
  {
   "cell_type": "code",
   "execution_count": 3,
   "id": "bd4fb211",
   "metadata": {},
   "outputs": [],
   "source": [
    "#zapisywanie modelu\n",
    "model.save('m3N_64_20.h5')"
   ]
  },
  {
   "cell_type": "raw",
   "id": "0bfbf933",
   "metadata": {},
   "source": [
    "Testowanie."
   ]
  },
  {
   "cell_type": "code",
   "execution_count": null,
   "id": "fee3b260",
   "metadata": {},
   "outputs": [],
   "source": [
    "import numpy as np\n",
    "import matplotlib.pyplot as plt\n",
    "from tensorflow.keras.models import load_model\n",
    "from tensorflow.keras.preprocessing import image\n",
    "\n",
    "#załaduj wytrenowany model\n",
    "model = load_model('m1_8_20.h5')\n",
    "\n",
    "#załaduj obraz do sklasyfikowania\n",
    "img_path = 'winniczek5.jpg'\n",
    "img = image.load_img(img_path, target_size=(300, 300))\n",
    "x = image.img_to_array(img)\n",
    "x = np.expand_dims(x, axis=0)\n",
    "\n",
    "#normalizacja obrazu\n",
    "x = x / 255.0\n",
    "\n",
    "#predykcja\n",
    "prediction = model.predict(x)\n",
    "\n",
    "#wyświetlanie obrazu\n",
    "plt.imshow(img)\n",
    "#przewidywana etykieta klasy\n",
    "class_names = ['Blotniarka', 'Helenka', 'Winniczek', 'Negative']\n",
    "predicted_class = np.argmax(prediction)\n",
    "predicted_name = class_names[predicted_class]\n",
    "\n",
    "print(f\"Predicted class: {predicted_name})\n"
   ]
  },
  {
   "cell_type": "code",
   "execution_count": 4,
   "id": "5293b460",
   "metadata": {
    "scrolled": true
   },
   "outputs": [
    {
     "data": {
      "image/png": "[encoded data removed]",
      "text/plain": [
       "<Figure size 432x288 with 1 Axes>"
      ]
     },
     "metadata": {
      "needs_background": "light"
     },
     "output_type": "display_data"
    },
    {
     "data": {
      "image/png": "[encoded data removed]",
      "text/plain": [
       "<Figure size 432x288 with 1 Axes>"
      ]
     },
     "metadata": {
      "needs_background": "light"
     },
     "output_type": "display_data"
    }
   ],
   "source": [
    "import matplotlib.pyplot as plt\n",
    "\n",
    "#dokładność\n",
    "plt.plot(history.history['accuracy'])\n",
    "plt.plot(history.history['val_accuracy'])\n",
    "plt.title('Dokładność modelu')\n",
    "plt.xlabel('Liczba epok treningowych')\n",
    "plt.ylabel('Dokładność')\n",
    "plt.legend(['train', 'val'], loc='upper left')\n",
    "plt.savefig('wykresy/accuracy_m3N_64_20.jpg')\n",
    "\n",
    "#strata\n",
    "plt.figure()\n",
    "plt.plot(history.history['loss'])\n",
    "plt.plot(history.history['val_loss'])\n",
    "plt.title('Strata modelu')\n",
    "plt.xlabel('Liczba epok treningowych')\n",
    "plt.ylabel('Strata')\n",
    "plt.legend(['train', 'val'], loc='upper left')\n",
    "plt.savefig('wykresy/loss_m3N_64_20.jpg')\n"
   ]
  },
  {
   "cell_type": "code",
   "execution_count": null,
   "id": "9304e332",
   "metadata": {
    "collapsed": true
   },
   "outputs": [],
   "source": [
    "#podsumowanie modelu\n",
    "model.summary()"
   ]
  },
  {
   "cell_type": "code",
   "execution_count": null,
   "id": "83cea3da",
   "metadata": {
    "scrolled": true
   },
   "outputs": [],
   "source": [
    "#precyzja, czułość, F1\n",
    "from tensorflow.keras.models import load_model\n",
    "from sklearn.metrics import classification_report\n",
    "\n",
    "#załaduj model z pliku .h5\n",
    "model = load_model('m1_32_20.h5')\n",
    "\n",
    "y_pred = model.predict(test_data)\n",
    "\n",
    "y_pred = np.argmax(y_pred, axis=1)\n",
    "test_labels = np.argmax(test_labels, axis=1)\n",
    "\n",
    "print(classification_report(test_labels, y_pred, target_names=class_labels))\n"
   ]
  },
  {
   "cell_type": "code",
   "execution_count": null,
   "id": "0a9e8555",
   "metadata": {},
   "outputs": [],
   "source": []
  }
 ],
 "metadata": {
  "kernelspec": {
   "display_name": "Python 3 (ipykernel)",
   "language": "python",
   "name": "python3"
  },
  "language_info": {
   "codemirror_mode": {
    "name": "ipython",
    "version": 3
   },
   "file_extension": ".py",
   "mimetype": "text/x-python",
   "name": "python",
   "nbconvert_exporter": "python",
   "pygments_lexer": "ipython3",
   "version": "3.9.12"
  }
 },
 "nbformat": 4,
 "nbformat_minor": 5
}
